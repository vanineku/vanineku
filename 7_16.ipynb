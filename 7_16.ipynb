{
  "nbformat": 4,
  "nbformat_minor": 0,
  "metadata": {
    "colab": {
      "provenance": [],
      "authorship_tag": "ABX9TyMdd0Jdaq6aDB5AUCBwCCNZ",
      "include_colab_link": true
    },
    "kernelspec": {
      "name": "python3",
      "display_name": "Python 3"
    },
    "language_info": {
      "name": "python"
    }
  },
  "cells": [
    {
      "cell_type": "markdown",
      "metadata": {
        "id": "view-in-github",
        "colab_type": "text"
      },
      "source": [
        "<a href=\"https://colab.research.google.com/github/vanineku/vanineku.github.io/blob/main/7_16.ipynb\" target=\"_parent\"><img src=\"https://colab.research.google.com/assets/colab-badge.svg\" alt=\"Open In Colab\"/></a>"
      ]
    },
    {
      "cell_type": "code",
      "execution_count": null,
      "metadata": {
        "colab": {
          "base_uri": "https://localhost:8080/",
          "height": 454
        },
        "id": "QKmmqhcbTsxZ",
        "outputId": "69bb7339-9158-4cd8-c97a-4257a76d5db3"
      },
      "outputs": [
        {
          "output_type": "stream",
          "name": "stdout",
          "text": [
            "0\n"
          ]
        },
        {
          "output_type": "display_data",
          "data": {
            "text/plain": [
              "<Figure size 480x480 with 1 Axes>"
            ],
            "image/png": "[encoded data removed]"
          },
          "metadata": {}
        }
      ],
      "source": [
        "from sklearn.preprocessing import PolynomialFeatures\n",
        "from sklearn import datasets\n",
        "digits = datasets.load_digits()\n",
        "from sklearn import svm\n",
        "clf = svm.SVC(gamma = 0.001)\n",
        "print(digits.target[0])\n",
        "import matplotlib.pyplot as plt\n",
        "plt.matshow(digits.images[99],cmap=\"Greys\")\n",
        "plt.show()"
      ]
    },
    {
      "cell_type": "code",
      "source": [
        "from sklearn import datasets\n",
        "digits = datasets.load_digits()\n",
        "x = digits.data\n",
        "y = digits.target\n",
        "\n",
        "n_train = len(digits.data)*2//3\n",
        "x_train = digits.data[:n_train]\n",
        "y_train = digits.target[:n_train]\n",
        "x_test = digits.data[n_train:]\n",
        "y_test = digits.target[n_train:]\n",
        "\n",
        "from sklearn import svm\n",
        "clf = svm.SVC(gamma = 0.001)\n",
        "clf.fit(x_train,y_train)\n",
        "\n",
        "#学習結果のレポート\n",
        "accuracy = clf.score(x_test,y_test)\n",
        "print(f\"正答率{accuracy}\")\n",
        "\n",
        "#間違った文字の確認\n",
        "predicted = clf.predict(x_test)\n",
        "n_error = (y_test != predicted).sum()\n",
        "print(f\"誤った個数：{n_error}\")\n",
        "print(f\"データ数{len(digits.data)}\")\n",
        "\n",
        "#学習結果のレポート\n",
        "from sklearn import metrics\n",
        "print(metrics.classification_report(y_test,predicted))\n",
        "\n",
        "#数字ごとに正解数と読み間違えた数字を調べる\n",
        "print(metrics.confusion_matrix(y_test,predicted))\n",
        "\n",
        "#画像イメージと分類結果の表示\n",
        "import matplotlib.pyplot as plt\n",
        "imgs_yt_preds = list(zip(digits.images[n_train:],y_test,predicted))\n",
        "for index,(image,y_t,pred)in enumerate (imgs_yt_preds[168:179]):\n",
        "    plt.subplot(3,4,index + 1)\n",
        "    plt.axis('off')\n",
        "    plt.tight_layout()\n",
        "    plt.imshow(image,cmap = \"Greys\",interpolation = \"nearest\")\n",
        "    plt.title(f't:{y_t} pre:{pred}',fontsize = 12)\n",
        "plt.savefig(\"mmm.png\")\n",
        "plt.show()"
      ],
      "metadata": {
        "colab": {
          "base_uri": "https://localhost:8080/",
          "height": 1000
        },
        "id": "_09n4JFGMoIW",
        "outputId": "00bfe6e2-f2ec-468f-933a-32ab9d2971c3"
      },
      "execution_count": 20,
      "outputs": [
        {
          "output_type": "stream",
          "name": "stdout",
          "text": [
            "正答率0.9632721202003339\n",
            "誤った個数：22\n",
            "データ数1797\n",
            "              precision    recall  f1-score   support\n",
            "\n",
            "           0       1.00      0.98      0.99        59\n",
            "           1       0.97      1.00      0.98        62\n",
            "           2       1.00      0.98      0.99        60\n",
            "           3       0.96      0.81      0.88        62\n",
            "           4       0.98      0.95      0.97        62\n",
            "           5       0.95      0.98      0.97        59\n",
            "           6       0.98      0.98      0.98        61\n",
            "           7       0.95      1.00      0.98        61\n",
            "           8       0.89      0.98      0.93        55\n",
            "           9       0.95      0.97      0.96        58\n",
            "\n",
            "    accuracy                           0.96       599\n",
            "   macro avg       0.96      0.96      0.96       599\n",
            "weighted avg       0.96      0.96      0.96       599\n",
            "\n",
            "[[58  0  0  0  1  0  0  0  0  0]\n",
            " [ 0 62  0  0  0  0  0  0  0  0]\n",
            " [ 0  0 59  1  0  0  0  0  0  0]\n",
            " [ 0  0  0 50  0  2  0  3  7  0]\n",
            " [ 0  0  0  0 59  0  0  0  0  3]\n",
            " [ 0  0  0  0  0 58  1  0  0  0]\n",
            " [ 0  1  0  0  0  0 60  0  0  0]\n",
            " [ 0  0  0  0  0  0  0 61  0  0]\n",
            " [ 0  1  0  0  0  0  0  0 54  0]\n",
            " [ 0  0  0  1  0  1  0  0  0 56]]\n"
          ]
        },
        {
          "output_type": "display_data",
          "data": {
            "text/plain": [
              "<Figure size 640x480 with 11 Axes>"
            ],
            "image/png": "[encoded data removed]"
          },
          "metadata": {}
        }
      ]
    }
  ]
}